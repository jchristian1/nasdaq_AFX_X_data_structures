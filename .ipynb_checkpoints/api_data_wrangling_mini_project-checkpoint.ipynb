{
 "cells": [
  {
   "cell_type": "markdown",
   "metadata": {},
   "source": [
    "This exercise will require you to pull some data from https://data.nasdaq.com/ (formerly Quandl API)."
   ]
  },
  {
   "cell_type": "markdown",
   "metadata": {},
   "source": [
    "As a first step, you will need to register a free account on the https://data.nasdaq.com/ website."
   ]
  },
  {
   "cell_type": "markdown",
   "metadata": {},
   "source": [
    "After you register, you will be provided with a unique API key, that you should store:\n",
    "\n",
    "*Note*: Use a `.env` file and put your key in there and `python-dotenv` to access it in this notebook. \n",
    "\n",
    "The code below uses a key that was used when generating this project but has since been deleted. Never submit your keys to source control. There is a `.env-example` file in this repository to illusrtate what you need. Copy that to a file called `.env` and use your own api key in that `.env` file. Make sure you also have a `.gitignore` file with a line for `.env` added to it. \n",
    "\n",
    "The standard Python gitignore is [here](https://github.com/github/gitignore/blob/master/Python.gitignore) you can just copy that. "
   ]
  },
  {
   "cell_type": "code",
   "execution_count": 1,
   "metadata": {},
   "outputs": [
    {
     "name": "stdout",
     "output_type": "stream",
     "text": [
      "Requirement already satisfied: python-dotenv in /home/ai/anaconda3/lib/python3.9/site-packages (1.0.1)\r\n"
     ]
    }
   ],
   "source": [
    "# Install python-dotenv\n",
    "!pip install python-dotenv"
   ]
  },
  {
   "cell_type": "code",
   "execution_count": 2,
   "metadata": {},
   "outputs": [
    {
     "name": "stdout",
     "output_type": "stream",
     "text": [
      "o8EkCziA1xWLoKCxKYE8\n"
     ]
    }
   ],
   "source": [
    "# get api key from your .env file\n",
    "import os\n",
    "from dotenv import load_dotenv\n",
    "\n",
    "load_dotenv()\n",
    "API_KEY = os.getenv('NASDAQ_API_KEY')\n",
    "\n",
    "print(API_KEY)"
   ]
  },
  {
   "cell_type": "markdown",
   "metadata": {},
   "source": [
    "Nasdaq Data has a large number of data sources, but, unfortunately, most of them require a Premium subscription. Still, there are also a good number of free datasets."
   ]
  },
  {
   "cell_type": "markdown",
   "metadata": {},
   "source": [
    "For this mini project, we will focus on equities data from the Frankfurt Stock Exhange (FSE), which is available for free. We'll try and analyze the stock prices of a company called Carl Zeiss Meditec, which manufactures tools for eye examinations, as well as medical lasers for laser eye surgery: https://www.zeiss.com/meditec/int/home.html. The company is listed under the stock ticker AFX_X."
   ]
  },
  {
   "cell_type": "markdown",
   "metadata": {},
   "source": [
    "You can find the detailed Nasdaq Data API instructions here: https://docs.data.nasdaq.com/docs/in-depth-usage"
   ]
  },
  {
   "cell_type": "markdown",
   "metadata": {},
   "source": [
    "While there is a dedicated Python package for connecting to the Nasdaq API, we would prefer that you use the *requests* package, which can be easily downloaded using *pip* or *conda*. You can find the documentation for the package here: http://docs.python-requests.org/en/master/ "
   ]
  },
  {
   "cell_type": "markdown",
   "metadata": {},
   "source": [
    "Finally, apart from the *requests* package, you are encouraged to not use any third party Python packages, such as *pandas*, and instead focus on what's available in the Python Standard Library (the *collections* module might come in handy: https://pymotw.com/3/collections/).\n",
    "Also, since you won't have access to DataFrames, you are encouraged to us Python's native data structures - preferably dictionaries, though some questions can also be answered using lists.\n",
    "You can read more on these data structures here: https://docs.python.org/3/tutorial/datastructures.html"
   ]
  },
  {
   "cell_type": "markdown",
   "metadata": {},
   "source": [
    "Keep in mind that the JSON responses you will be getting from the API map almost one-to-one to Python's dictionaries. Unfortunately, they can be very nested, so make sure you read up on indexing dictionaries in the documentation provided above."
   ]
  },
  {
   "cell_type": "code",
   "execution_count": 3,
   "metadata": {},
   "outputs": [],
   "source": [
    "# First, import the relevant modules\n",
    "import requests\n",
    "import json"
   ]
  },
  {
   "cell_type": "markdown",
   "metadata": {},
   "source": [
    "Note: API's can change a bit with each version, for this exercise it is reccomended to use the nasdaq api at `https://data.nasdaq.com/api/v3/`. This is the same api as what used to be quandl so `https://www.quandl.com/api/v3/` should work too.\n",
    "\n",
    "Hint: We are looking for the `AFX_X` data on the `datasets/FSE/` dataset."
   ]
  },
  {
   "cell_type": "code",
   "execution_count": 4,
   "metadata": {},
   "outputs": [],
   "source": [
    "# Now, call the Nasdaq API and pull out a small sample of the data (only one day) to get a glimpse\n",
    "# into the JSON structure that will be returned\n",
    "url = f'https://data.nasdaq.com/api/v3/datasets/FSE/AFX_X/data.json?api_key={API_KEY}'\n",
    "response = requests.get(url)\n",
    "response_json = response.json()"
   ]
  },
  {
   "cell_type": "code",
   "execution_count": 31,
   "metadata": {},
   "outputs": [
    {
     "name": "stdout",
     "output_type": "stream",
     "text": [
      "length limit: No nested level. Type: NoneType\n",
      "length transform: No nested level. Type: NoneType\n",
      "length column_index: No nested level. Type: NoneType\n",
      "length column_names: 11 (Nested level detected)\n",
      "length start_date: No nested level. Type: str\n",
      "length end_date: No nested level. Type: str\n",
      "length frequency: No nested level. Type: str\n",
      "length data: 5268 (Nested level detected)\n",
      "length collapse: No nested level. Type: NoneType\n",
      "length order: No nested level. Type: NoneType\n"
     ]
    },
    {
     "data": {
      "text/plain": [
       "'From the documentation and the last code we can say that the first level of the json contains informational data\\nabout the dataset (metadata) the most important collections are the column names as well as data that would be the third \\nsecond nexted level. we should use the combination of this two fields to create a new dataset.'"
      ]
     },
     "execution_count": 31,
     "metadata": {},
     "output_type": "execute_result"
    }
   ],
   "source": [
    "# Inspect the JSON structure of the object you created, and take note of how nested it is,\n",
    "# as well as the overall structure\n",
    "\n",
    "#First Level\n",
    "\n",
    "keys = response_json['dataset_data'].keys()\n",
    "for k in keys:\n",
    "    item = response_json['dataset_data'][k]\n",
    "    if isinstance(item, list) or isinstance(item, dict):\n",
    "        # It's a nested structure if it's a list or a dictionary\n",
    "        print(f'length {k}: {len(item)} (Nested level detected)')\n",
    "    else:\n",
    "        # It's not a nested structure\n",
    "        print(f'length {k}: No nested level. Type: {type(item).__name__}')\n",
    "        \n",
    "'''From the documentation and the last code we can say that the first level of the json contains informational data\n",
    "about the dataset (metadata) the most important collections are the column names as well as data that would be the third \n",
    "second nested level. we should use the combination of this two fields to create a new dataset.'''"
   ]
  },
  {
   "cell_type": "markdown",
   "metadata": {},
   "source": [
    "These are your tasks for this mini project:\n",
    "\n",
    "1. Collect data from the Franfurt Stock Exchange, for the ticker AFX_X, for the whole year 2017 (keep in mind that the date format is YYYY-MM-DD).\n",
    "2. Convert the returned JSON object into a Python dictionary.\n",
    "3. Calculate what the highest and lowest opening prices were for the stock in this period.\n",
    "4. What was the largest change in any one day (based on High and Low price)?\n",
    "5. What was the largest change between any two days (based on Closing Price)?\n",
    "6. What was the average daily trading volume during this year?\n",
    "7. (Optional) What was the median trading volume during this year. (Note: you may need to implement your own function for calculating the median.)"
   ]
  },
  {
   "cell_type": "markdown",
   "metadata": {},
   "source": [
    "**1. Year 2017**"
   ]
  },
  {
   "cell_type": "code",
   "execution_count": 7,
   "metadata": {},
   "outputs": [
    {
     "name": "stdout",
     "output_type": "stream",
     "text": [
      "[['2017-12-29', 51.76, 51.94, 51.45, 51.76, None, 34640.0, 1792304.0, None, None, None], ['2017-12-28', 51.65, 51.82, 51.43, 51.6, None, 40660.0, 2099024.0, None, None, None], ['2017-12-27', 51.45, 51.89, 50.76, 51.82, None, 57452.0, 2957018.0, None, None, None], ['2017-12-22', 51.05, 51.5, 50.92, 51.32, None, 71165.0, 3641949.0, None, None, None], ['2017-12-21', 51.16, 51.52, 50.9, 51.4, None, 120649.0, 6179433.0, None, None, None]]\n"
     ]
    }
   ],
   "source": [
    "data = response_json['dataset_data']['data']\n",
    "\n",
    "# Filter for entries from the year 2017\n",
    "data_2017 = [entry for entry in data if entry[0].startswith('2017')]\n",
    "print(data_2017[:5])"
   ]
  },
  {
   "cell_type": "markdown",
   "metadata": {},
   "source": [
    "**2. Python to Dict**"
   ]
  },
  {
   "cell_type": "code",
   "execution_count": 8,
   "metadata": {},
   "outputs": [
    {
     "name": "stdout",
     "output_type": "stream",
     "text": [
      "[{'Date': '2017-12-29', 'Open': 51.76, 'High': 51.94, 'Low': 51.45, 'Close': 51.76, 'Change': None, 'Traded Volume': 34640.0, 'Turnover': 1792304.0, 'Last Price of the Day': None, 'Daily Traded Units': None, 'Daily Turnover': None}, {'Date': '2017-12-28', 'Open': 51.65, 'High': 51.82, 'Low': 51.43, 'Close': 51.6, 'Change': None, 'Traded Volume': 40660.0, 'Turnover': 2099024.0, 'Last Price of the Day': None, 'Daily Traded Units': None, 'Daily Turnover': None}, {'Date': '2017-12-27', 'Open': 51.45, 'High': 51.89, 'Low': 50.76, 'Close': 51.82, 'Change': None, 'Traded Volume': 57452.0, 'Turnover': 2957018.0, 'Last Price of the Day': None, 'Daily Traded Units': None, 'Daily Turnover': None}, {'Date': '2017-12-22', 'Open': 51.05, 'High': 51.5, 'Low': 50.92, 'Close': 51.32, 'Change': None, 'Traded Volume': 71165.0, 'Turnover': 3641949.0, 'Last Price of the Day': None, 'Daily Traded Units': None, 'Daily Turnover': None}, {'Date': '2017-12-21', 'Open': 51.16, 'High': 51.52, 'Low': 50.9, 'Close': 51.4, 'Change': None, 'Traded Volume': 120649.0, 'Turnover': 6179433.0, 'Last Price of the Day': None, 'Daily Traded Units': None, 'Daily Turnover': None}]\n"
     ]
    }
   ],
   "source": [
    "'''\n",
    "The name of the dataset is dataset_date and we need the column names to make the data underestandable as well as \n",
    "each data point data.\n",
    "\n",
    "so lets mixed it together.\n",
    " ''' \n",
    "column_names = response_json['dataset_data']['column_names']\n",
    "formatted_data = []\n",
    "\n",
    "formatted_data = [{column: value for column, value in zip(column_names, day_data)} for day_data in data_2017]\n",
    "    \n",
    "print(formatted_data[:5])"
   ]
  },
  {
   "cell_type": "markdown",
   "metadata": {},
   "source": [
    "**3. Lowest and Highest opening prices**"
   ]
  },
  {
   "cell_type": "code",
   "execution_count": 15,
   "metadata": {},
   "outputs": [
    {
     "name": "stdout",
     "output_type": "stream",
     "text": [
      "Highest opening price: 53.11\n",
      "Lowest opening price: 34.0\n"
     ]
    }
   ],
   "source": [
    "opening_prices = [day['Open'] for day in formatted_data if day['Open'] is not None]\n",
    "\n",
    "# Calculate highest and lowest opening prices\n",
    "highest_open = max(opening_prices)\n",
    "lowest_open = min(opening_prices)\n",
    "\n",
    "print(f\"Highest opening price: {highest_open}\")\n",
    "print(f\"Lowest opening price: {lowest_open}\")"
   ]
  },
  {
   "cell_type": "markdown",
   "metadata": {},
   "source": [
    "**4. Largest change in on day**\n"
   ]
  },
  {
   "cell_type": "code",
   "execution_count": 16,
   "metadata": {},
   "outputs": [
    {
     "name": "stdout",
     "output_type": "stream",
     "text": [
      "Largest change in any one day: 2.8100000000000023\n"
     ]
    }
   ],
   "source": [
    "daily_changes = [day['High'] - day['Low'] for day in formatted_data if day['High'] is not None and day['Low'] is not None]\n",
    "\n",
    "# Find the largest change in any one day\n",
    "largest_change = max(daily_changes)\n",
    "\n",
    "print(f\"Largest change in any one day: {largest_change}\")"
   ]
  },
  {
   "cell_type": "markdown",
   "metadata": {},
   "source": [
    "**5. Largest change in two days**\n"
   ]
  },
  {
   "cell_type": "code",
   "execution_count": 17,
   "metadata": {},
   "outputs": [
    {
     "name": "stdout",
     "output_type": "stream",
     "text": [
      "Largest change between any two days: 2.559999999999995\n"
     ]
    }
   ],
   "source": [
    "changes_between_days = []\n",
    "\n",
    "# Iterate through the formatted_data list starting from the second element\n",
    "for i in range(1, len(formatted_data)):\n",
    "    # Calculate the absolute change between consecutive days\n",
    "    change = abs(formatted_data[i]['Close'] - formatted_data[i-1]['Close'])\n",
    "    changes_between_days.append(change)\n",
    "\n",
    "# Find the largest change between any two days\n",
    "largest_change_between_days = max(changes_between_days)\n",
    "\n",
    "print(f\"Largest change between any two days: {largest_change_between_days}\")"
   ]
  },
  {
   "cell_type": "markdown",
   "metadata": {},
   "source": [
    "**6. average daily trading volume**"
   ]
  },
  {
   "cell_type": "code",
   "execution_count": 18,
   "metadata": {},
   "outputs": [
    {
     "name": "stdout",
     "output_type": "stream",
     "text": [
      "Average daily trading volume during the year: 89124.33725490196\n"
     ]
    }
   ],
   "source": [
    "# Extract the trading volume for each day\n",
    "trading_volumes = [day['Traded Volume'] for day in formatted_data if day['Traded Volume'] is not None]\n",
    "\n",
    "# Calculate the average trading volume\n",
    "average_trading_volume = sum(trading_volumes) / len(trading_volumes)\n",
    "\n",
    "print(f\"Average daily trading volume during the year: {average_trading_volume}\")\n"
   ]
  },
  {
   "cell_type": "markdown",
   "metadata": {},
   "source": [
    "**7. Median trading volume during this year.**"
   ]
  },
  {
   "cell_type": "code",
   "execution_count": 19,
   "metadata": {},
   "outputs": [
    {
     "name": "stdout",
     "output_type": "stream",
     "text": [
      "Median trading volume during the year: 76286.0\n"
     ]
    }
   ],
   "source": [
    "def calculate_median(values):\n",
    "    \"\"\"\n",
    "    Calculate the median of a list of values.\n",
    "    Args:\n",
    "    - values: A list of numbers.\n",
    "    \n",
    "    Returns:\n",
    "    - The median value.\n",
    "    \"\"\"\n",
    "    # sort the list\n",
    "    sorted_values = sorted(values)\n",
    "    n = len(sorted_values)\n",
    "    \n",
    "    # If the list has an odd number of elements, return the middle one.\n",
    "    if n % 2 == 1:\n",
    "        return sorted_values[n // 2]\n",
    "    # If the list has an even number of elements, return the average of the middle two.\n",
    "    else:\n",
    "        return (sorted_values[n // 2 - 1] + sorted_values[n // 2]) / 2\n",
    "\n",
    "# Extract the trading volume for each day\n",
    "trading_volumes = [day['Traded Volume'] for day in formatted_data if day['Traded Volume'] is not None]\n",
    "\n",
    "# Calculate the median trading volume\n",
    "median_trading_volume = calculate_median(trading_volumes)\n",
    "\n",
    "print(f\"Median trading volume during the year: {median_trading_volume}\")\n"
   ]
  },
  {
   "cell_type": "code",
   "execution_count": null,
   "metadata": {},
   "outputs": [],
   "source": []
  }
 ],
 "metadata": {
  "interpreter": {
   "hash": "7635eb1b9d0fe97add78a7368b6b431c09bb8ad5c42e437d64abdd99821c31ae"
  },
  "kernelspec": {
   "display_name": "Python 3 (ipykernel)",
   "language": "python",
   "name": "python3"
  },
  "language_info": {
   "codemirror_mode": {
    "name": "ipython",
    "version": 3
   },
   "file_extension": ".py",
   "mimetype": "text/x-python",
   "name": "python",
   "nbconvert_exporter": "python",
   "pygments_lexer": "ipython3",
   "version": "3.9.12"
  }
 },
 "nbformat": 4,
 "nbformat_minor": 4
}
